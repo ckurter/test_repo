{
 "cells": [
  {
   "cell_type": "markdown",
   "id": "5ec265f0",
   "metadata": {},
   "source": [
    "# Data Science Tools and Ecosystem"
   ]
  },
  {
   "cell_type": "markdown",
   "id": "93bbbc41",
   "metadata": {},
   "source": [
    "In this notebook, Data Science Tools and Ecosystem are summarized."
   ]
  },
  {
   "cell_type": "markdown",
   "id": "962a016d",
   "metadata": {},
   "source": [
    "**Objectives:**\n",
    "- Listing popular languages for data science\n",
    "- Listing data science libraries\n",
    "- Creating a markdown cell for development environment open source tools used in data science"
   ]
  },
  {
   "cell_type": "markdown",
   "id": "7ee29f55",
   "metadata": {},
   "source": [
    "Some of the popular languages that Data Scientists use are:\n",
    "1. Python\n",
    "1. R\n",
    "1. Julia\n",
    "1. Java\n",
    "1. JavaScript\n",
    "1. SQL\n",
    "1. Matlab"
   ]
  },
  {
   "cell_type": "markdown",
   "id": "1d29f57e",
   "metadata": {},
   "source": [
    "Some of the commonly used libraries used by Data Scientists include:\n",
    "- Pandas\n",
    "- Numpy\n",
    "- matplotlib\n",
    "- Scikit\n",
    "- Tensor Flow\n",
    "- Pytorch\n",
    "- ggplot2"
   ]
  },
  {
   "cell_type": "markdown",
   "id": "17bfa3cc",
   "metadata": {},
   "source": [
    "| Data Science Tools |\n",
    "| ------------------ |\n",
    "| Apache Spark       |\n",
    "| Tensor Flow        |\n",
    "| Hadoop             |\n",
    "| MySQL              |"
   ]
  },
  {
   "cell_type": "markdown",
   "id": "ce306f9b",
   "metadata": {},
   "source": [
    "### Below are a few examples of evaluating arithmetic expressions in Python"
   ]
  },
  {
   "cell_type": "code",
   "execution_count": 1,
   "id": "7b858019",
   "metadata": {},
   "outputs": [
    {
     "data": {
      "text/plain": [
       "17"
      ]
     },
     "execution_count": 1,
     "metadata": {},
     "output_type": "execute_result"
    }
   ],
   "source": [
    "(3*4)+5\n",
    "# This a simple arithmetic expression to mutiply then add integers. "
   ]
  },
  {
   "cell_type": "code",
   "execution_count": 2,
   "id": "307c44d4",
   "metadata": {},
   "outputs": [
    {
     "data": {
      "text/plain": [
       "3.3333333333333335"
      ]
     },
     "execution_count": 2,
     "metadata": {},
     "output_type": "execute_result"
    }
   ],
   "source": [
    "minutes= 200\n",
    "hours= minutes/60\n",
    "hours\n",
    "\n",
    "# This will convert 200 minutes to hours by diving by 60."
   ]
  },
  {
   "cell_type": "markdown",
   "id": "f0b12194",
   "metadata": {},
   "source": [
    "## Author\n",
    "Cihan Kurter"
   ]
  },
  {
   "cell_type": "code",
   "execution_count": null,
   "id": "44498688",
   "metadata": {},
   "outputs": [],
   "source": []
  }
 ],
 "metadata": {
  "kernelspec": {
   "display_name": "Python 3 (ipykernel)",
   "language": "python",
   "name": "python3"
  },
  "language_info": {
   "codemirror_mode": {
    "name": "ipython",
    "version": 3
   },
   "file_extension": ".py",
   "mimetype": "text/x-python",
   "name": "python",
   "nbconvert_exporter": "python",
   "pygments_lexer": "ipython3",
   "version": "3.11.3"
  }
 },
 "nbformat": 4,
 "nbformat_minor": 5
}
